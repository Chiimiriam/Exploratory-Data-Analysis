{
 "cells": [
  {
   "cell_type": "code",
   "execution_count": 10,
   "id": "38e3ba68",
   "metadata": {},
   "outputs": [],
   "source": [
    "#import revalant libraries\n",
    "import pandas as pd\n",
    "import seaborn as sns\n",
    "import matplotlib.pyplot as plt"
   ]
  },
  {
   "cell_type": "code",
   "execution_count": 11,
   "id": "3341edc4",
   "metadata": {},
   "outputs": [
    {
     "data": {
      "text/html": [
       "<div>\n",
       "<style scoped>\n",
       "    .dataframe tbody tr th:only-of-type {\n",
       "        vertical-align: middle;\n",
       "    }\n",
       "\n",
       "    .dataframe tbody tr th {\n",
       "        vertical-align: top;\n",
       "    }\n",
       "\n",
       "    .dataframe thead th {\n",
       "        text-align: right;\n",
       "    }\n",
       "</style>\n",
       "<table border=\"1\" class=\"dataframe\">\n",
       "  <thead>\n",
       "    <tr style=\"text-align: right;\">\n",
       "      <th></th>\n",
       "      <th>Year</th>\n",
       "      <th>Zone</th>\n",
       "      <th>Season</th>\n",
       "      <th>Category</th>\n",
       "      <th>Crop</th>\n",
       "      <th>Production (mt)</th>\n",
       "      <th>Ha</th>\n",
       "      <th>yield/ha</th>\n",
       "      <th>State</th>\n",
       "      <th>Class</th>\n",
       "      <th>Remarks</th>\n",
       "    </tr>\n",
       "  </thead>\n",
       "  <tbody>\n",
       "    <tr>\n",
       "      <th>0</th>\n",
       "      <td>2009</td>\n",
       "      <td>South East</td>\n",
       "      <td>Wet</td>\n",
       "      <td>CBOs</td>\n",
       "      <td>Rice</td>\n",
       "      <td>3.0</td>\n",
       "      <td>1.0</td>\n",
       "      <td>3.0</td>\n",
       "      <td>Abia</td>\n",
       "      <td>Certified</td>\n",
       "      <td>Pass</td>\n",
       "    </tr>\n",
       "    <tr>\n",
       "      <th>1</th>\n",
       "      <td>2009</td>\n",
       "      <td>South East</td>\n",
       "      <td>Wet</td>\n",
       "      <td>CBOs</td>\n",
       "      <td>Rice</td>\n",
       "      <td>18.0</td>\n",
       "      <td>6.0</td>\n",
       "      <td>3.0</td>\n",
       "      <td>Abia</td>\n",
       "      <td>Certified</td>\n",
       "      <td>Pass</td>\n",
       "    </tr>\n",
       "    <tr>\n",
       "      <th>2</th>\n",
       "      <td>2009</td>\n",
       "      <td>South East</td>\n",
       "      <td>Wet</td>\n",
       "      <td>CBOs</td>\n",
       "      <td>Rice</td>\n",
       "      <td>12.0</td>\n",
       "      <td>4.0</td>\n",
       "      <td>3.0</td>\n",
       "      <td>Abia</td>\n",
       "      <td>Certified</td>\n",
       "      <td>Pass</td>\n",
       "    </tr>\n",
       "    <tr>\n",
       "      <th>3</th>\n",
       "      <td>2009</td>\n",
       "      <td>South South</td>\n",
       "      <td>Wet</td>\n",
       "      <td>CBOs</td>\n",
       "      <td>Rice</td>\n",
       "      <td>1.5</td>\n",
       "      <td>0.5</td>\n",
       "      <td>3.0</td>\n",
       "      <td>Akwa Ibom</td>\n",
       "      <td>Certified</td>\n",
       "      <td>Pass</td>\n",
       "    </tr>\n",
       "    <tr>\n",
       "      <th>4</th>\n",
       "      <td>2009</td>\n",
       "      <td>South South</td>\n",
       "      <td>Wet</td>\n",
       "      <td>CBOs</td>\n",
       "      <td>Rice</td>\n",
       "      <td>2.1</td>\n",
       "      <td>0.7</td>\n",
       "      <td>3.0</td>\n",
       "      <td>Akwa Ibom</td>\n",
       "      <td>Certified</td>\n",
       "      <td>Pass</td>\n",
       "    </tr>\n",
       "  </tbody>\n",
       "</table>\n",
       "</div>"
      ],
      "text/plain": [
       "   Year         Zone Season Category  Crop  Production (mt)   Ha  yield/ha  \\\n",
       "0  2009   South East    Wet     CBOs  Rice              3.0  1.0       3.0   \n",
       "1  2009   South East    Wet     CBOs  Rice             18.0  6.0       3.0   \n",
       "2  2009   South East    Wet     CBOs  Rice             12.0  4.0       3.0   \n",
       "3  2009  South South    Wet     CBOs  Rice              1.5  0.5       3.0   \n",
       "4  2009  South South    Wet     CBOs  Rice              2.1  0.7       3.0   \n",
       "\n",
       "       State      Class Remarks  \n",
       "0       Abia  Certified    Pass  \n",
       "1       Abia  Certified    Pass  \n",
       "2       Abia  Certified    Pass  \n",
       "3  Akwa Ibom  Certified    Pass  \n",
       "4  Akwa Ibom  Certified    Pass  "
      ]
     },
     "execution_count": 11,
     "metadata": {},
     "output_type": "execute_result"
    }
   ],
   "source": [
    "df = pd.read_excel(r'Certified Seed Data for Pythone Project.xlsx')\n",
    "df.head()"
   ]
  },
  {
   "cell_type": "code",
   "execution_count": 16,
   "id": "63bcd645",
   "metadata": {},
   "outputs": [
    {
     "name": "stdout",
     "output_type": "stream",
     "text": [
      "<class 'pandas.core.frame.DataFrame'>\n",
      "RangeIndex: 39208 entries, 0 to 39207\n",
      "Data columns (total 11 columns):\n",
      " #   Column           Non-Null Count  Dtype         \n",
      "---  ------           --------------  -----         \n",
      " 0   Year             39208 non-null  datetime64[ns]\n",
      " 1   Zone             39208 non-null  object        \n",
      " 2   Season           39208 non-null  object        \n",
      " 3   Category         39208 non-null  object        \n",
      " 4   Crop             39208 non-null  object        \n",
      " 5   Production (mt)  39208 non-null  float64       \n",
      " 6   Ha               39208 non-null  float64       \n",
      " 7   yield/ha         39208 non-null  float64       \n",
      " 8   State            39208 non-null  object        \n",
      " 9   Class            39208 non-null  object        \n",
      " 10  Remarks          39208 non-null  object        \n",
      "dtypes: datetime64[ns](1), float64(3), object(7)\n",
      "memory usage: 3.3+ MB\n"
     ]
    }
   ],
   "source": [
    "df.info()"
   ]
  },
  {
   "cell_type": "markdown",
   "id": "3595eaea",
   "metadata": {},
   "source": [
    "##### The data has 11 features and 39k+ observations. \n",
    "#### 7 of the features are categorical data, 3 features are floats and one of the features is a year data type"
   ]
  },
  {
   "cell_type": "code",
   "execution_count": 13,
   "id": "03bb8ca4",
   "metadata": {},
   "outputs": [
    {
     "data": {
      "text/plain": [
       "Year               0\n",
       "Zone               0\n",
       "Season             0\n",
       "Category           0\n",
       "Crop               0\n",
       "Production (mt)    0\n",
       "Ha                 0\n",
       "yield/ha           0\n",
       "State              0\n",
       "Class              0\n",
       "Remarks            0\n",
       "dtype: int64"
      ]
     },
     "execution_count": 13,
     "metadata": {},
     "output_type": "execute_result"
    }
   ],
   "source": [
    "df.isna().sum()"
   ]
  },
  {
   "cell_type": "markdown",
   "id": "fdb3d95f",
   "metadata": {},
   "source": [
    "There are no missing values in the data"
   ]
  },
  {
   "cell_type": "code",
   "execution_count": 14,
   "id": "a44e8d82",
   "metadata": {},
   "outputs": [],
   "source": [
    "# Convert 'Year' to date object\n",
    "df[\"Year\"]= pd.to_datetime(df[\"Year\"])"
   ]
  },
  {
   "cell_type": "code",
   "execution_count": 17,
   "id": "d62be322",
   "metadata": {},
   "outputs": [
    {
     "name": "stdout",
     "output_type": "stream",
     "text": [
      "<class 'pandas.core.frame.DataFrame'>\n",
      "RangeIndex: 39208 entries, 0 to 39207\n",
      "Data columns (total 11 columns):\n",
      " #   Column           Non-Null Count  Dtype         \n",
      "---  ------           --------------  -----         \n",
      " 0   Year             39208 non-null  datetime64[ns]\n",
      " 1   Zone             39208 non-null  object        \n",
      " 2   Season           39208 non-null  object        \n",
      " 3   Category         39208 non-null  object        \n",
      " 4   Crop             39208 non-null  object        \n",
      " 5   Production (mt)  39208 non-null  float64       \n",
      " 6   Ha               39208 non-null  float64       \n",
      " 7   yield/ha         39208 non-null  float64       \n",
      " 8   State            39208 non-null  object        \n",
      " 9   Class            39208 non-null  object        \n",
      " 10  Remarks          39208 non-null  object        \n",
      "dtypes: datetime64[ns](1), float64(3), object(7)\n",
      "memory usage: 3.3+ MB\n"
     ]
    }
   ],
   "source": [
    "df.info()"
   ]
  },
  {
   "cell_type": "code",
   "execution_count": 31,
   "id": "15edd2e3",
   "metadata": {},
   "outputs": [
    {
     "data": {
      "text/plain": [
       "(array([0, 1, 2, 3, 4, 5]),\n",
       " [Text(0, 0, 'North West'),\n",
       "  Text(1, 0, 'North East'),\n",
       "  Text(2, 0, 'North Central'),\n",
       "  Text(3, 0, 'South West'),\n",
       "  Text(4, 0, 'South East'),\n",
       "  Text(5, 0, 'South South')])"
      ]
     },
     "execution_count": 31,
     "metadata": {},
     "output_type": "execute_result"
    },
    {
     "data": {
      "image/png": "[encoded data removed]",
      "text/plain": [
       "<Figure size 864x288 with 1 Axes>"
      ]
     },
     "metadata": {
      "needs_background": "light"
     },
     "output_type": "display_data"
    }
   ],
   "source": [
    "plt.figure(figsize =(12, 4))\n",
    "df.Zone.value_counts().plot.bar()\n",
    "plt.xticks(rotation = 0)"
   ]
  },
  {
   "cell_type": "code",
   "execution_count": 19,
   "id": "edba8e2b",
   "metadata": {},
   "outputs": [
    {
     "data": {
      "text/plain": [
       "Rice       14984\n",
       "Maize      14036\n",
       "Cotton      7721\n",
       "Soybean     1598\n",
       "Sorghum      869\n",
       "Name: Crop, dtype: int64"
      ]
     },
     "execution_count": 19,
     "metadata": {},
     "output_type": "execute_result"
    }
   ],
   "source": [
    "df.Crop.value_counts()"
   ]
  },
  {
   "cell_type": "code",
   "execution_count": 20,
   "id": "a00687f2",
   "metadata": {},
   "outputs": [
    {
     "data": {
      "text/plain": [
       "Companies    36939\n",
       "CBOs          2269\n",
       "Name: Category, dtype: int64"
      ]
     },
     "execution_count": 20,
     "metadata": {},
     "output_type": "execute_result"
    }
   ],
   "source": [
    "df.Category.value_counts()"
   ]
  },
  {
   "cell_type": "code",
   "execution_count": 21,
   "id": "685b1e7a",
   "metadata": {},
   "outputs": [
    {
     "data": {
      "text/plain": [
       "Katsina         10001\n",
       "Kaduna           7938\n",
       "Kano             5531\n",
       "Kebbi            4823\n",
       "Jigawa           2281\n",
       "Gombe            1770\n",
       "Borno            1302\n",
       "Benue            1107\n",
       "Osun              590\n",
       "Niger             576\n",
       "Zamfara           424\n",
       "Adamawa           414\n",
       "Plateau           361\n",
       "FCT               293\n",
       "Nasarawa          276\n",
       "Ebonyi            254\n",
       "Ondo              209\n",
       "Taraba            166\n",
       "Bauchi            158\n",
       "Ekiti             155\n",
       "Oyo               153\n",
       "Kwara             104\n",
       "Ogun               66\n",
       "Kogi               60\n",
       "Delta              39\n",
       "Cross River        32\n",
       "Enugu              26\n",
       "Yobe               24\n",
       "Cross Rivers       17\n",
       "Imo                17\n",
       "Abia               14\n",
       "Akwa Ibom          13\n",
       "Anambra             8\n",
       "Sokoto              5\n",
       "Bayelsa             1\n",
       "Name: State, dtype: int64"
      ]
     },
     "execution_count": 21,
     "metadata": {},
     "output_type": "execute_result"
    }
   ],
   "source": [
    "df.State.value_counts()"
   ]
  },
  {
   "cell_type": "code",
   "execution_count": 26,
   "id": "0d60015d",
   "metadata": {},
   "outputs": [
    {
     "data": {
      "text/html": [
       "<div>\n",
       "<style scoped>\n",
       "    .dataframe tbody tr th:only-of-type {\n",
       "        vertical-align: middle;\n",
       "    }\n",
       "\n",
       "    .dataframe tbody tr th {\n",
       "        vertical-align: top;\n",
       "    }\n",
       "\n",
       "    .dataframe thead th {\n",
       "        text-align: right;\n",
       "    }\n",
       "</style>\n",
       "<table border=\"1\" class=\"dataframe\">\n",
       "  <thead>\n",
       "    <tr style=\"text-align: right;\">\n",
       "      <th></th>\n",
       "      <th>Production (mt)</th>\n",
       "      <th>Ha</th>\n",
       "      <th>yield/ha</th>\n",
       "    </tr>\n",
       "  </thead>\n",
       "  <tbody>\n",
       "    <tr>\n",
       "      <th>count</th>\n",
       "      <td>39208</td>\n",
       "      <td>39208</td>\n",
       "      <td>39208</td>\n",
       "    </tr>\n",
       "    <tr>\n",
       "      <th>mean</th>\n",
       "      <td>198</td>\n",
       "      <td>5</td>\n",
       "      <td>2</td>\n",
       "    </tr>\n",
       "    <tr>\n",
       "      <th>std</th>\n",
       "      <td>25932</td>\n",
       "      <td>51</td>\n",
       "      <td>19</td>\n",
       "    </tr>\n",
       "    <tr>\n",
       "      <th>min</th>\n",
       "      <td>0</td>\n",
       "      <td>0</td>\n",
       "      <td>0</td>\n",
       "    </tr>\n",
       "    <tr>\n",
       "      <th>25%</th>\n",
       "      <td>3</td>\n",
       "      <td>2</td>\n",
       "      <td>1</td>\n",
       "    </tr>\n",
       "    <tr>\n",
       "      <th>50%</th>\n",
       "      <td>6</td>\n",
       "      <td>3</td>\n",
       "      <td>3</td>\n",
       "    </tr>\n",
       "    <tr>\n",
       "      <th>75%</th>\n",
       "      <td>17</td>\n",
       "      <td>7</td>\n",
       "      <td>3</td>\n",
       "    </tr>\n",
       "    <tr>\n",
       "      <th>max</th>\n",
       "      <td>5056200</td>\n",
       "      <td>9224</td>\n",
       "      <td>3180</td>\n",
       "    </tr>\n",
       "  </tbody>\n",
       "</table>\n",
       "</div>"
      ],
      "text/plain": [
       "       Production (mt)     Ha  yield/ha\n",
       "count            39208  39208     39208\n",
       "mean               198      5         2\n",
       "std              25932     51        19\n",
       "min                  0      0         0\n",
       "25%                  3      2         1\n",
       "50%                  6      3         3\n",
       "75%                 17      7         3\n",
       "max            5056200   9224      3180"
      ]
     },
     "execution_count": 26,
     "metadata": {},
     "output_type": "execute_result"
    }
   ],
   "source": [
    "df.describe().astype(int)"
   ]
  },
  {
   "cell_type": "code",
   "execution_count": null,
   "id": "36e34e46",
   "metadata": {},
   "outputs": [],
   "source": []
  }
 ],
 "metadata": {
  "kernelspec": {
   "display_name": "Python 3 (ipykernel)",
   "language": "python",
   "name": "python3"
  },
  "language_info": {
   "codemirror_mode": {
    "name": "ipython",
    "version": 3
   },
   "file_extension": ".py",
   "mimetype": "text/x-python",
   "name": "python",
   "nbconvert_exporter": "python",
   "pygments_lexer": "ipython3",
   "version": "3.9.7"
  }
 },
 "nbformat": 4,
 "nbformat_minor": 5
}
